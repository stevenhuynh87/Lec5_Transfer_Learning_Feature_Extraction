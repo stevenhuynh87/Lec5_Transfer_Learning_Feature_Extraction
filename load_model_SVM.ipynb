{
 "cells": [
  {
   "cell_type": "code",
   "execution_count": 1,
   "metadata": {},
   "outputs": [],
   "source": [
    "# import the necessary packages\n",
    "import numpy as np\n",
    "import cv2\n",
    "import pickle\n",
    "from tensorflow.keras.applications import VGG16\n",
    "from tensorflow.keras.preprocessing.image import img_to_array\n",
    "from tensorflow.keras.preprocessing.image import load_img\n",
    "from tensorflow.keras.applications.vgg16 import preprocess_input"
   ]
  },
  {
   "cell_type": "code",
   "execution_count": 4,
   "metadata": {},
   "outputs": [
    {
     "name": "stdout",
     "output_type": "stream",
     "text": [
      "[INFO] Inserting sample images for classification...\n"
     ]
    }
   ],
   "source": [
    "# Khởi tạo danh sách nhãn\n",
    "classLabels = [\"non_food\", \"food\"]\n",
    "\n",
    "# Nạp hình ảnh để thực hiện gắn nhãn (phân lớp)\n",
    "print(\"[INFO] Inserting sample images for classification...\")\n",
    "imagePath =\"image//0.jpg\"\n",
    "image = load_img(imagePath, target_size=(224, 224)) #thay đổi lại kích thước 224 x 224\n",
    "image = img_to_array(image) # Chuyển ảnh lưu trữ bằng mảng\n",
    "image = np.expand_dims(image, axis=0) # chuyển đổ dữ liệu theo quy định keras\n",
    "image = preprocess_input(image) # Nhận dữ liệu\n",
    "# Tạo danh sách để lưu dữ liệu ảnh\n",
    "batchImages = []\n",
    "batchImages.append(image)"
   ]
  },
  {
   "cell_type": "code",
   "execution_count": 5,
   "metadata": {},
   "outputs": [
    {
     "name": "stdout",
     "output_type": "stream",
     "text": [
      "\u001b[1m1/1\u001b[0m \u001b[32m━━━━━━━━━━━━━━━━━━━━\u001b[0m\u001b[37m\u001b[0m \u001b[1m0s\u001b[0m 123ms/step\n"
     ]
    }
   ],
   "source": [
    "# truyền ảnh qua mạng và đầu ra là các đặc trưng của ảnh,\n",
    "# Sau đó định dạng lại các đă trưng đó thành một khối phẳng\n",
    "model1 = VGG16(weights=\"imagenet\", include_top=False)\n",
    "batchImages = np.vstack(batchImages)\n",
    "features = model1.predict(batchImages)\n",
    "features = features.reshape((features.shape[0], 7 * 7 * 512))"
   ]
  },
  {
   "cell_type": "code",
   "execution_count": 7,
   "metadata": {},
   "outputs": [
    {
     "name": "stdout",
     "output_type": "stream",
     "text": [
      "[INFO] Inserting pre-trained model ...\n",
      "[INFO] Predicting for classification ...\n"
     ]
    },
    {
     "data": {
      "text/plain": [
       "48"
      ]
     },
     "execution_count": 7,
     "metadata": {},
     "output_type": "execute_result"
    }
   ],
   "source": [
    "# Nạp model (network) đã được train (pre-trained)\n",
    "print(\"[INFO] Inserting pre-trained model ...\")\n",
    "model = pickle.load(open('output//model.cpickle', 'rb'))\n",
    "\n",
    "# Dự đoán nhãn (label) ảnh đầu vào. Ảnh được lưu trong data\n",
    "print(\"[INFO] Predicting for classification ...\")\n",
    "preds = model.predict(features)\n",
    "\n",
    "#Kết quả trả về: \"0\", \"1\": Tương ứng với food và non_food\n",
    "if preds==\"0\":\n",
    "\tlabel=\"food\"\n",
    "else:\n",
    " \tlabel=\"non_food\"\n",
    "\n",
    "# mở ảnh ảnh --> tạo label dự đoán trên ảnh --> Hiển thị ảnh\n",
    "image = cv2.imread(imagePath)\n",
    "# Tạo label dự đoán trên ảnh\n",
    "cv2.putText(image, \"label: {}\".format(label), (10, 30), cv2.FONT_HERSHEY_SIMPLEX, 0.7, (0, 255, 0), 2)\n",
    "# Hiển thị ảnh\n",
    "cv2.imshow(\"Image\", image)\n",
    "cv2.waitKey(0)"
   ]
  }
 ],
 "metadata": {
  "kernelspec": {
   "display_name": ".venv",
   "language": "python",
   "name": "python3"
  },
  "language_info": {
   "codemirror_mode": {
    "name": "ipython",
    "version": 3
   },
   "file_extension": ".py",
   "mimetype": "text/x-python",
   "name": "python",
   "nbconvert_exporter": "python",
   "pygments_lexer": "ipython3",
   "version": "3.12.5"
  }
 },
 "nbformat": 4,
 "nbformat_minor": 2
}
