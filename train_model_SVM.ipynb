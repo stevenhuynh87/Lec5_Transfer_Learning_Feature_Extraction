{
 "cells": [
  {
   "cell_type": "code",
   "execution_count": null,
   "metadata": {},
   "outputs": [],
   "source": [
    "# import the necessary packages\n",
    "from sklearn.metrics import classification_report\n",
    "import numpy as np\n",
    "import pickle\n",
    "import os\n",
    "from sklearn import svm"
   ]
  },
  {
   "cell_type": "code",
   "execution_count": 2,
   "metadata": {},
   "outputs": [],
   "source": [
    "# Định nghĩa đường dẫn lưu model sau khi train, và chỉ ra nơi chứa file đặc trưng\n",
    "# được trích xuất từ mạng Vgg16\n",
    "BASE_CSV_PATH = \"output\""
   ]
  },
  {
   "cell_type": "code",
   "execution_count": 4,
   "metadata": {},
   "outputs": [],
   "source": [
    "def load_data_split(splitPath):\n",
    "\t# Khởi tạo danh sách chứa data và labels\n",
    "\tdata = []\n",
    "\tlabels = []\n",
    "\t# Duyệt qua các hàng trong file chứ đặc trưng và nhãn\n",
    "\tfor row in open(splitPath):\n",
    "\t\t# Trích xuất nhãn và đặc trưng từ hàng của file chứa đặc trưng\n",
    "\t\trow = row.strip().split(\",\")\n",
    "\t\tlabel = row[0]\n",
    "\t\tfeatures = np.array(row[1:], dtype=\"float\")\n",
    "\t\t# Cập nhật danh sách data và label\n",
    "\t\tdata.append(features)\n",
    "\t\tlabels.append(label)\n",
    "\t# Chuyển data và labels sang arrays\n",
    "\tdata = np.array(data)\n",
    "\tlabels = np.array(labels)\n",
    "\t# Trả về tuple có hai thành phần data và labels\n",
    "\treturn (data, labels)"
   ]
  },
  {
   "cell_type": "code",
   "execution_count": 5,
   "metadata": {},
   "outputs": [
    {
     "name": "stdout",
     "output_type": "stream",
     "text": [
      "[INFO] loading data...\n",
      "[INFO] training model...\n",
      "[INFO] evaluating...\n",
      "              precision    recall  f1-score   support\n",
      "\n",
      "        food       0.99      0.97      0.98       500\n",
      "    non_food       0.97      0.99      0.98       500\n",
      "\n",
      "    accuracy                           0.98      1000\n",
      "   macro avg       0.98      0.98      0.98      1000\n",
      "weighted avg       0.98      0.98      0.98      1000\n",
      "\n",
      "[INFO] saving model...\n"
     ]
    }
   ],
   "source": [
    "# Khai báo đưowng dẫn đến các file *csv chứa đặc trưng\n",
    "# để làm dữ liệu train và test cho bộ phân lớp SVM\n",
    "trainingPath = os.path.sep.join([BASE_CSV_PATH,\"training.csv\"])\n",
    "testingPath = os.path.sep.join([BASE_CSV_PATH,\"evaluation.csv\"])\n",
    "\n",
    "# Chia tách phần data, nhãn để train và để test\n",
    "print(\"[INFO] loading data...\")\n",
    "(trainX, trainY) = load_data_split(trainingPath)\n",
    "(testX, testY) = load_data_split(testingPath)\n",
    "\n",
    "# Nạp file mã hóa label\n",
    "LE_PATH = os.path.sep.join([\"output\", \"le.cpickle\"])\n",
    "le = pickle.loads(open(LE_PATH, \"rb\").read())\n",
    "\n",
    "# Train bộ phân lớp SVM (model)\n",
    "print(\"[INFO] training model...\")\n",
    "model = svm.SVC()\n",
    "model.fit(trainX, trainY)\n",
    "\n",
    "# đánh giá model\n",
    "print(\"[INFO] evaluating...\")\n",
    "preds = model.predict(testX)\n",
    "print(classification_report(testY, preds, target_names=le.classes_))\n",
    "\n",
    "# Lưu model thành file model.cpickle\n",
    "print(\"[INFO] saving model...\")\n",
    "MODEL_PATH = os.path.sep.join([\"output\", \"model.cpickle\"])\n",
    "f = open(MODEL_PATH, \"wb\")\n",
    "f.write(pickle.dumps(model))\n",
    "f.close()"
   ]
  }
 ],
 "metadata": {
  "kernelspec": {
   "display_name": ".venv",
   "language": "python",
   "name": "python3"
  },
  "language_info": {
   "codemirror_mode": {
    "name": "ipython",
    "version": 3
   },
   "file_extension": ".py",
   "mimetype": "text/x-python",
   "name": "python",
   "nbconvert_exporter": "python",
   "pygments_lexer": "ipython3",
   "version": "3.12.5"
  }
 },
 "nbformat": 4,
 "nbformat_minor": 2
}
